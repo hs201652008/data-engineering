{
 "cells": [
  {
   "cell_type": "code",
   "execution_count": 1,
   "metadata": {},
   "outputs": [
    {
     "name": "stderr",
     "output_type": "stream",
     "text": [
      "C:\\Users\\minseok\\AppData\\Local\\Temp/ipykernel_14580/3712437291.py:3: FutureWarning: The pandas.datetime class is deprecated and will be removed from pandas in a future version. Import from datetime module instead.\n",
      "  from pandas import datetime\n"
     ]
    },
    {
     "data": {
      "text/html": [
       "<div>\n",
       "<style scoped>\n",
       "    .dataframe tbody tr th:only-of-type {\n",
       "        vertical-align: middle;\n",
       "    }\n",
       "\n",
       "    .dataframe tbody tr th {\n",
       "        vertical-align: top;\n",
       "    }\n",
       "\n",
       "    .dataframe thead th {\n",
       "        text-align: right;\n",
       "    }\n",
       "</style>\n",
       "<table border=\"1\" class=\"dataframe\">\n",
       "  <thead>\n",
       "    <tr style=\"text-align: right;\">\n",
       "      <th></th>\n",
       "      <th>CO(GT)</th>\n",
       "      <th>PT08.S1(CO)</th>\n",
       "      <th>PT08.S2(NMHC)</th>\n",
       "      <th>NOx(GT)</th>\n",
       "      <th>PT08.S3(NOx)</th>\n",
       "      <th>NO2(GT)</th>\n",
       "      <th>PT08.S4(NO2)</th>\n",
       "      <th>PT08.S5(O3)</th>\n",
       "      <th>RH</th>\n",
       "      <th>AH</th>\n",
       "      <th>C6H6(GT)</th>\n",
       "    </tr>\n",
       "    <tr>\n",
       "      <th>Datetime</th>\n",
       "      <th></th>\n",
       "      <th></th>\n",
       "      <th></th>\n",
       "      <th></th>\n",
       "      <th></th>\n",
       "      <th></th>\n",
       "      <th></th>\n",
       "      <th></th>\n",
       "      <th></th>\n",
       "      <th></th>\n",
       "      <th></th>\n",
       "    </tr>\n",
       "  </thead>\n",
       "  <tbody>\n",
       "    <tr>\n",
       "      <th>2004-03-10 18:00:00</th>\n",
       "      <td>2.6</td>\n",
       "      <td>1360.0</td>\n",
       "      <td>1046.0</td>\n",
       "      <td>166.0</td>\n",
       "      <td>1056.0</td>\n",
       "      <td>113.0</td>\n",
       "      <td>1692.0</td>\n",
       "      <td>1268.0</td>\n",
       "      <td>48.9</td>\n",
       "      <td>0.7578</td>\n",
       "      <td>11.9</td>\n",
       "    </tr>\n",
       "    <tr>\n",
       "      <th>2004-03-10 19:00:00</th>\n",
       "      <td>2.0</td>\n",
       "      <td>1292.0</td>\n",
       "      <td>955.0</td>\n",
       "      <td>103.0</td>\n",
       "      <td>1174.0</td>\n",
       "      <td>92.0</td>\n",
       "      <td>1559.0</td>\n",
       "      <td>972.0</td>\n",
       "      <td>47.7</td>\n",
       "      <td>0.7255</td>\n",
       "      <td>9.4</td>\n",
       "    </tr>\n",
       "    <tr>\n",
       "      <th>2004-03-10 20:00:00</th>\n",
       "      <td>2.2</td>\n",
       "      <td>1402.0</td>\n",
       "      <td>939.0</td>\n",
       "      <td>131.0</td>\n",
       "      <td>1140.0</td>\n",
       "      <td>114.0</td>\n",
       "      <td>1555.0</td>\n",
       "      <td>1074.0</td>\n",
       "      <td>54.0</td>\n",
       "      <td>0.7502</td>\n",
       "      <td>9.0</td>\n",
       "    </tr>\n",
       "    <tr>\n",
       "      <th>2004-03-10 21:00:00</th>\n",
       "      <td>2.2</td>\n",
       "      <td>1376.0</td>\n",
       "      <td>948.0</td>\n",
       "      <td>172.0</td>\n",
       "      <td>1092.0</td>\n",
       "      <td>122.0</td>\n",
       "      <td>1584.0</td>\n",
       "      <td>1203.0</td>\n",
       "      <td>60.0</td>\n",
       "      <td>0.7867</td>\n",
       "      <td>9.2</td>\n",
       "    </tr>\n",
       "    <tr>\n",
       "      <th>2004-03-10 22:00:00</th>\n",
       "      <td>1.6</td>\n",
       "      <td>1272.0</td>\n",
       "      <td>836.0</td>\n",
       "      <td>131.0</td>\n",
       "      <td>1205.0</td>\n",
       "      <td>116.0</td>\n",
       "      <td>1490.0</td>\n",
       "      <td>1110.0</td>\n",
       "      <td>59.6</td>\n",
       "      <td>0.7888</td>\n",
       "      <td>6.5</td>\n",
       "    </tr>\n",
       "  </tbody>\n",
       "</table>\n",
       "</div>"
      ],
      "text/plain": [
       "                     CO(GT)  PT08.S1(CO)  PT08.S2(NMHC)  NOx(GT)  \\\n",
       "Datetime                                                           \n",
       "2004-03-10 18:00:00     2.6       1360.0         1046.0    166.0   \n",
       "2004-03-10 19:00:00     2.0       1292.0          955.0    103.0   \n",
       "2004-03-10 20:00:00     2.2       1402.0          939.0    131.0   \n",
       "2004-03-10 21:00:00     2.2       1376.0          948.0    172.0   \n",
       "2004-03-10 22:00:00     1.6       1272.0          836.0    131.0   \n",
       "\n",
       "                     PT08.S3(NOx)  NO2(GT)  PT08.S4(NO2)  PT08.S5(O3)    RH  \\\n",
       "Datetime                                                                      \n",
       "2004-03-10 18:00:00        1056.0    113.0        1692.0       1268.0  48.9   \n",
       "2004-03-10 19:00:00        1174.0     92.0        1559.0        972.0  47.7   \n",
       "2004-03-10 20:00:00        1140.0    114.0        1555.0       1074.0  54.0   \n",
       "2004-03-10 21:00:00        1092.0    122.0        1584.0       1203.0  60.0   \n",
       "2004-03-10 22:00:00        1205.0    116.0        1490.0       1110.0  59.6   \n",
       "\n",
       "                         AH  C6H6(GT)  \n",
       "Datetime                               \n",
       "2004-03-10 18:00:00  0.7578      11.9  \n",
       "2004-03-10 19:00:00  0.7255       9.4  \n",
       "2004-03-10 20:00:00  0.7502       9.0  \n",
       "2004-03-10 21:00:00  0.7867       9.2  \n",
       "2004-03-10 22:00:00  0.7888       6.5  "
      ]
     },
     "execution_count": 1,
     "metadata": {},
     "output_type": "execute_result"
    }
   ],
   "source": [
    "import pandas as pd\n",
    "import numpy as np\n",
    "from pandas import datetime\n",
    "from matplotlib import pyplot as plt\n",
    "\n",
    "\"\"\"\n",
    "Load AirQualityUCI Data\n",
    "\"\"\"\n",
    "\n",
    "def parser(x):\n",
    "    return datetime.strptime(x, '%Y-%m-%d %H:%M:%S')\n",
    "\n",
    "input_file = './data/AirQualityUCI_refined.csv'\n",
    "\n",
    "df = pd.read_csv(input_file,\n",
    "                 index_col=[0],\n",
    "                 parse_dates=[0],\n",
    "                 date_parser=parser)\n",
    "\n",
    "df.head()"
   ]
  },
  {
   "cell_type": "code",
   "execution_count": 2,
   "metadata": {},
   "outputs": [
    {
     "name": "stdout",
     "output_type": "stream",
     "text": [
      "Using matplotlib backend: Qt5Agg\n"
     ]
    },
    {
     "data": {
      "text/plain": [
       "<matplotlib.pyplot._IonContext at 0x22051098850>"
      ]
     },
     "execution_count": 2,
     "metadata": {},
     "output_type": "execute_result"
    }
   ],
   "source": [
    "# Visualization setup\n",
    "%matplotlib\n",
    "from matplotlib import pyplot as plt\n",
    "import seaborn; seaborn.set()  # set plot styles\n",
    "%config InlineBackend.figure_format = 'svg'\n",
    "plt.rcParams['figure.figsize'] = [10, 5]\n",
    "plt.ion() # enable the interactive mode"
   ]
  },
  {
   "cell_type": "code",
   "execution_count": 5,
   "metadata": {},
   "outputs": [
    {
     "data": {
      "text/plain": [
       "<AxesSubplot:xlabel='Datetime'>"
      ]
     },
     "execution_count": 5,
     "metadata": {},
     "output_type": "execute_result"
    }
   ],
   "source": [
    "# Visualize the 'CO(GT)' variable\n",
    "df['CO(GT)'].plot()"
   ]
  },
  {
   "cell_type": "code",
   "execution_count": 2,
   "metadata": {},
   "outputs": [],
   "source": [
    "# Linear interpolation\n",
    "co = df['CO(GT)'].copy()\n",
    "co.interpolate(inplace=True)"
   ]
  },
  {
   "cell_type": "code",
   "execution_count": 7,
   "metadata": {},
   "outputs": [
    {
     "data": {
      "text/plain": [
       "<matplotlib.legend.Legend at 0x22054e3cf70>"
      ]
     },
     "execution_count": 7,
     "metadata": {},
     "output_type": "execute_result"
    }
   ],
   "source": [
    "# Visualize original and imputed data\n",
    "plt.plot(df['CO(GT)'], label='original', zorder=2)\n",
    "plt.plot(co, label='linear interpolation', zorder=1)\n",
    "plt.legend(loc='best')"
   ]
  },
  {
   "cell_type": "code",
   "execution_count": 8,
   "metadata": {},
   "outputs": [
    {
     "data": {
      "text/plain": [
       "Text(0.5, 0, 'CO(GT)')"
      ]
     },
     "execution_count": 8,
     "metadata": {},
     "output_type": "execute_result"
    }
   ],
   "source": [
    "# Detecting outliers using Boxplot\n",
    "plt.boxplot(co)\n",
    "plt.title(\"Detecting ouliers using Boxplot\")\n",
    "plt.xlabel('CO(GT)')"
   ]
  },
  {
   "cell_type": "code",
   "execution_count": 3,
   "metadata": {},
   "outputs": [
    {
     "data": {
      "text/html": [
       "<div>\n",
       "<style scoped>\n",
       "    .dataframe tbody tr th:only-of-type {\n",
       "        vertical-align: middle;\n",
       "    }\n",
       "\n",
       "    .dataframe tbody tr th {\n",
       "        vertical-align: top;\n",
       "    }\n",
       "\n",
       "    .dataframe thead th {\n",
       "        text-align: right;\n",
       "    }\n",
       "</style>\n",
       "<table border=\"1\" class=\"dataframe\">\n",
       "  <thead>\n",
       "    <tr style=\"text-align: right;\">\n",
       "      <th></th>\n",
       "      <th>CO(GT)</th>\n",
       "      <th>PT08.S1(CO)</th>\n",
       "      <th>PT08.S2(NMHC)</th>\n",
       "      <th>NOx(GT)</th>\n",
       "      <th>PT08.S3(NOx)</th>\n",
       "      <th>NO2(GT)</th>\n",
       "      <th>PT08.S4(NO2)</th>\n",
       "      <th>PT08.S5(O3)</th>\n",
       "      <th>RH</th>\n",
       "      <th>AH</th>\n",
       "      <th>C6H6(GT)</th>\n",
       "    </tr>\n",
       "  </thead>\n",
       "  <tbody>\n",
       "    <tr>\n",
       "      <th>CO(GT)</th>\n",
       "      <td>1.000000</td>\n",
       "      <td>0.877203</td>\n",
       "      <td>0.914973</td>\n",
       "      <td>0.792557</td>\n",
       "      <td>-0.701703</td>\n",
       "      <td>0.679262</td>\n",
       "      <td>0.639470</td>\n",
       "      <td>0.851403</td>\n",
       "      <td>0.040218</td>\n",
       "      <td>0.065809</td>\n",
       "      <td>0.845144</td>\n",
       "    </tr>\n",
       "    <tr>\n",
       "      <th>PT08.S1(CO)</th>\n",
       "      <td>0.877203</td>\n",
       "      <td>1.000000</td>\n",
       "      <td>0.892964</td>\n",
       "      <td>0.713654</td>\n",
       "      <td>-0.771938</td>\n",
       "      <td>0.641529</td>\n",
       "      <td>0.682881</td>\n",
       "      <td>0.899324</td>\n",
       "      <td>0.114606</td>\n",
       "      <td>0.135324</td>\n",
       "      <td>0.883795</td>\n",
       "    </tr>\n",
       "    <tr>\n",
       "      <th>PT08.S2(NMHC)</th>\n",
       "      <td>0.914973</td>\n",
       "      <td>0.892964</td>\n",
       "      <td>1.000000</td>\n",
       "      <td>0.704435</td>\n",
       "      <td>-0.796703</td>\n",
       "      <td>0.646245</td>\n",
       "      <td>0.777254</td>\n",
       "      <td>0.880578</td>\n",
       "      <td>-0.090380</td>\n",
       "      <td>0.186933</td>\n",
       "      <td>0.981950</td>\n",
       "    </tr>\n",
       "    <tr>\n",
       "      <th>NOx(GT)</th>\n",
       "      <td>0.792557</td>\n",
       "      <td>0.713654</td>\n",
       "      <td>0.704435</td>\n",
       "      <td>1.000000</td>\n",
       "      <td>-0.655707</td>\n",
       "      <td>0.763111</td>\n",
       "      <td>0.233731</td>\n",
       "      <td>0.787046</td>\n",
       "      <td>0.221032</td>\n",
       "      <td>-0.149323</td>\n",
       "      <td>0.626638</td>\n",
       "    </tr>\n",
       "    <tr>\n",
       "      <th>PT08.S3(NOx)</th>\n",
       "      <td>-0.701703</td>\n",
       "      <td>-0.771938</td>\n",
       "      <td>-0.796703</td>\n",
       "      <td>-0.655707</td>\n",
       "      <td>1.000000</td>\n",
       "      <td>-0.652083</td>\n",
       "      <td>-0.538468</td>\n",
       "      <td>-0.796569</td>\n",
       "      <td>-0.056740</td>\n",
       "      <td>-0.232017</td>\n",
       "      <td>-0.735744</td>\n",
       "    </tr>\n",
       "    <tr>\n",
       "      <th>NO2(GT)</th>\n",
       "      <td>0.679262</td>\n",
       "      <td>0.641529</td>\n",
       "      <td>0.646245</td>\n",
       "      <td>0.763111</td>\n",
       "      <td>-0.652083</td>\n",
       "      <td>1.000000</td>\n",
       "      <td>0.157360</td>\n",
       "      <td>0.708128</td>\n",
       "      <td>-0.091759</td>\n",
       "      <td>-0.335022</td>\n",
       "      <td>0.544039</td>\n",
       "    </tr>\n",
       "    <tr>\n",
       "      <th>PT08.S4(NO2)</th>\n",
       "      <td>0.639470</td>\n",
       "      <td>0.682881</td>\n",
       "      <td>0.777254</td>\n",
       "      <td>0.233731</td>\n",
       "      <td>-0.538468</td>\n",
       "      <td>0.157360</td>\n",
       "      <td>1.000000</td>\n",
       "      <td>0.591144</td>\n",
       "      <td>-0.032188</td>\n",
       "      <td>0.629641</td>\n",
       "      <td>0.765731</td>\n",
       "    </tr>\n",
       "    <tr>\n",
       "      <th>PT08.S5(O3)</th>\n",
       "      <td>0.851403</td>\n",
       "      <td>0.899324</td>\n",
       "      <td>0.880578</td>\n",
       "      <td>0.787046</td>\n",
       "      <td>-0.796569</td>\n",
       "      <td>0.708128</td>\n",
       "      <td>0.591144</td>\n",
       "      <td>1.000000</td>\n",
       "      <td>0.124956</td>\n",
       "      <td>0.070751</td>\n",
       "      <td>0.865689</td>\n",
       "    </tr>\n",
       "    <tr>\n",
       "      <th>RH</th>\n",
       "      <td>0.040218</td>\n",
       "      <td>0.114606</td>\n",
       "      <td>-0.090380</td>\n",
       "      <td>0.221032</td>\n",
       "      <td>-0.056740</td>\n",
       "      <td>-0.091759</td>\n",
       "      <td>-0.032188</td>\n",
       "      <td>0.124956</td>\n",
       "      <td>1.000000</td>\n",
       "      <td>0.167971</td>\n",
       "      <td>-0.061681</td>\n",
       "    </tr>\n",
       "    <tr>\n",
       "      <th>AH</th>\n",
       "      <td>0.065809</td>\n",
       "      <td>0.135324</td>\n",
       "      <td>0.186933</td>\n",
       "      <td>-0.149323</td>\n",
       "      <td>-0.232017</td>\n",
       "      <td>-0.335022</td>\n",
       "      <td>0.629641</td>\n",
       "      <td>0.070751</td>\n",
       "      <td>0.167971</td>\n",
       "      <td>1.000000</td>\n",
       "      <td>0.167972</td>\n",
       "    </tr>\n",
       "    <tr>\n",
       "      <th>C6H6(GT)</th>\n",
       "      <td>0.845144</td>\n",
       "      <td>0.883795</td>\n",
       "      <td>0.981950</td>\n",
       "      <td>0.626638</td>\n",
       "      <td>-0.735744</td>\n",
       "      <td>0.544039</td>\n",
       "      <td>0.765731</td>\n",
       "      <td>0.865689</td>\n",
       "      <td>-0.061681</td>\n",
       "      <td>0.167972</td>\n",
       "      <td>1.000000</td>\n",
       "    </tr>\n",
       "  </tbody>\n",
       "</table>\n",
       "</div>"
      ],
      "text/plain": [
       "                 CO(GT)  PT08.S1(CO)  PT08.S2(NMHC)   NOx(GT)  PT08.S3(NOx)  \\\n",
       "CO(GT)         1.000000     0.877203       0.914973  0.792557     -0.701703   \n",
       "PT08.S1(CO)    0.877203     1.000000       0.892964  0.713654     -0.771938   \n",
       "PT08.S2(NMHC)  0.914973     0.892964       1.000000  0.704435     -0.796703   \n",
       "NOx(GT)        0.792557     0.713654       0.704435  1.000000     -0.655707   \n",
       "PT08.S3(NOx)  -0.701703    -0.771938      -0.796703 -0.655707      1.000000   \n",
       "NO2(GT)        0.679262     0.641529       0.646245  0.763111     -0.652083   \n",
       "PT08.S4(NO2)   0.639470     0.682881       0.777254  0.233731     -0.538468   \n",
       "PT08.S5(O3)    0.851403     0.899324       0.880578  0.787046     -0.796569   \n",
       "RH             0.040218     0.114606      -0.090380  0.221032     -0.056740   \n",
       "AH             0.065809     0.135324       0.186933 -0.149323     -0.232017   \n",
       "C6H6(GT)       0.845144     0.883795       0.981950  0.626638     -0.735744   \n",
       "\n",
       "                NO2(GT)  PT08.S4(NO2)  PT08.S5(O3)        RH        AH  \\\n",
       "CO(GT)         0.679262      0.639470     0.851403  0.040218  0.065809   \n",
       "PT08.S1(CO)    0.641529      0.682881     0.899324  0.114606  0.135324   \n",
       "PT08.S2(NMHC)  0.646245      0.777254     0.880578 -0.090380  0.186933   \n",
       "NOx(GT)        0.763111      0.233731     0.787046  0.221032 -0.149323   \n",
       "PT08.S3(NOx)  -0.652083     -0.538468    -0.796569 -0.056740 -0.232017   \n",
       "NO2(GT)        1.000000      0.157360     0.708128 -0.091759 -0.335022   \n",
       "PT08.S4(NO2)   0.157360      1.000000     0.591144 -0.032188  0.629641   \n",
       "PT08.S5(O3)    0.708128      0.591144     1.000000  0.124956  0.070751   \n",
       "RH            -0.091759     -0.032188     0.124956  1.000000  0.167971   \n",
       "AH            -0.335022      0.629641     0.070751  0.167971  1.000000   \n",
       "C6H6(GT)       0.544039      0.765731     0.865689 -0.061681  0.167972   \n",
       "\n",
       "               C6H6(GT)  \n",
       "CO(GT)         0.845144  \n",
       "PT08.S1(CO)    0.883795  \n",
       "PT08.S2(NMHC)  0.981950  \n",
       "NOx(GT)        0.626638  \n",
       "PT08.S3(NOx)  -0.735744  \n",
       "NO2(GT)        0.544039  \n",
       "PT08.S4(NO2)   0.765731  \n",
       "PT08.S5(O3)    0.865689  \n",
       "RH            -0.061681  \n",
       "AH             0.167972  \n",
       "C6H6(GT)       1.000000  "
      ]
     },
     "execution_count": 3,
     "metadata": {},
     "output_type": "execute_result"
    }
   ],
   "source": [
    "# Calculate correlations between variables\n",
    "corr_matrix = df.corr()\n",
    "corr_matrix"
   ]
  },
  {
   "cell_type": "code",
   "execution_count": 4,
   "metadata": {},
   "outputs": [],
   "source": [
    "# Choose the least correlated variable\n",
    "rh = df['RH'].copy().interpolate() # Relative Humidity"
   ]
  },
  {
   "cell_type": "code",
   "execution_count": 12,
   "metadata": {},
   "outputs": [
    {
     "data": {
      "text/plain": [
       "Text(0.5, 1.0, 'Detecting outliers using Boxplot')"
      ]
     },
     "execution_count": 12,
     "metadata": {},
     "output_type": "execute_result"
    }
   ],
   "source": [
    "# Visualize a scatter plot(CO, RH)\n",
    "plt.scatter(co, rh, s=12, c='black')\n",
    "plt.xlabel('CO(GT)')\n",
    "plt.ylabel('RH')\n",
    "plt.title(\"Detecting outliers using Boxplot\")"
   ]
  },
  {
   "cell_type": "code",
   "execution_count": 5,
   "metadata": {},
   "outputs": [],
   "source": [
    "# Choose the most correlated variable\n",
    "nmhc = df['PT08.S2(NMHC)'].copy().interpolate() # NMHC: Non-metanic Hydrocarbon"
   ]
  },
  {
   "cell_type": "code",
   "execution_count": 14,
   "metadata": {},
   "outputs": [
    {
     "data": {
      "text/plain": [
       "Text(0, 0.5, 'NMHC')"
      ]
     },
     "execution_count": 14,
     "metadata": {},
     "output_type": "execute_result"
    }
   ],
   "source": [
    "# Visualize a scatter plot(CO, NMHC)\n",
    "plt.scatter(co, nmhc, s=12, c='black')\n",
    "plt.xlabel('CO(GT)')\n",
    "plt.ylabel(\"NMHC\")"
   ]
  },
  {
   "cell_type": "code",
   "execution_count": 6,
   "metadata": {},
   "outputs": [
    {
     "name": "stdout",
     "output_type": "stream",
     "text": [
      "1.1 1.8 2.9\n"
     ]
    }
   ],
   "source": [
    "\"\"\"\n",
    "IQR-based Outlier Detection\n",
    "\"\"\"\n",
    "\n",
    "# Q1, Q2(median), Q3\n",
    "q1 = co.quantile(0.25)\n",
    "median = co.quantile(0.5)\n",
    "q3 = co.quantile(0.75)\n",
    "print(q1, median, q3)"
   ]
  },
  {
   "cell_type": "code",
   "execution_count": 7,
   "metadata": {},
   "outputs": [
    {
     "name": "stdout",
     "output_type": "stream",
     "text": [
      "5.6 -1.5999999999999996\n"
     ]
    }
   ],
   "source": [
    "# IQR, upper_fence, lower_fence\n",
    "iqr = q3 - q1\n",
    "upper_fence = q3 + 1.5*iqr\n",
    "lower_fence = q1 - 1.5*iqr\n",
    "print(upper_fence, lower_fence)"
   ]
  },
  {
   "cell_type": "code",
   "execution_count": 8,
   "metadata": {},
   "outputs": [
    {
     "data": {
      "text/plain": [
       "Datetime\n",
       "2004-03-11 19:00:00    6.9\n",
       "2004-03-11 20:00:00    6.1\n",
       "2004-03-12 20:00:00    6.6\n",
       "2004-03-14 20:00:00    5.9\n",
       "2004-03-15 09:00:00    8.1\n",
       "                      ... \n",
       "2005-03-23 19:00:00    6.2\n",
       "2005-03-23 20:00:00    7.2\n",
       "2005-03-24 19:00:00    5.9\n",
       "2005-03-24 20:00:00    7.5\n",
       "2005-03-25 19:00:00    5.7\n",
       "Name: CO(GT), Length: 224, dtype: float64"
      ]
     },
     "execution_count": 8,
     "metadata": {},
     "output_type": "execute_result"
    }
   ],
   "source": [
    "# Filtering the outliers\n",
    "outliers = co.loc[(co > upper_fence) | (co < 0)]\n",
    "outliers"
   ]
  },
  {
   "cell_type": "code",
   "execution_count": 9,
   "metadata": {},
   "outputs": [
    {
     "data": {
      "text/plain": [
       "array([False, False, False, False, False, False, False, False, False,\n",
       "       False, False, False, False, False, False, False, False, False,\n",
       "       False, False, False, False, False, False, False,  True,  True,\n",
       "       False, False, False, False, False, False, False, False, False,\n",
       "       False, False, False, False, False, False, False, False, False,\n",
       "       False, False, False, False, False])"
      ]
     },
     "execution_count": 9,
     "metadata": {},
     "output_type": "execute_result"
    }
   ],
   "source": [
    "# Mask for outliers\n",
    "mask = co.index.isin(outliers.index)\n",
    "mask[:50]"
   ]
  },
  {
   "cell_type": "code",
   "execution_count": 23,
   "metadata": {},
   "outputs": [
    {
     "data": {
      "text/plain": [
       "array([ True,  True,  True,  True,  True,  True,  True,  True,  True,\n",
       "        True,  True,  True,  True,  True,  True,  True,  True,  True,\n",
       "        True,  True,  True,  True,  True,  True,  True, False, False,\n",
       "        True,  True,  True,  True,  True,  True,  True,  True,  True,\n",
       "        True,  True,  True,  True,  True,  True,  True,  True,  True,\n",
       "        True,  True,  True,  True,  True])"
      ]
     },
     "execution_count": 23,
     "metadata": {},
     "output_type": "execute_result"
    }
   ],
   "source": [
    "~mask[:50] # ~ not"
   ]
  },
  {
   "cell_type": "code",
   "execution_count": 24,
   "metadata": {},
   "outputs": [
    {
     "data": {
      "text/plain": [
       "<matplotlib.legend.Legend at 0x22057561700>"
      ]
     },
     "execution_count": 24,
     "metadata": {},
     "output_type": "execute_result"
    }
   ],
   "source": [
    "# Visualize the normal data and outliers ~: not\n",
    "plt.plot(co[~mask], label='normal', color='blue',\n",
    "    marker='o', markersize=3, linestyle='None')\n",
    "plt.plot(outliers, label='outliers', color='red',\n",
    "    marker='x', markersize=3, linestyle='None')\n",
    "plt.legend(loc='best')"
   ]
  },
  {
   "cell_type": "code",
   "execution_count": 10,
   "metadata": {},
   "outputs": [
    {
     "name": "stdout",
     "output_type": "stream",
     "text": [
      "Datetime\n",
      "2004-03-11 19:00:00   NaN\n",
      "2004-03-11 20:00:00   NaN\n",
      "2004-03-12 20:00:00   NaN\n",
      "2004-03-14 20:00:00   NaN\n",
      "2004-03-15 09:00:00   NaN\n",
      "                       ..\n",
      "2005-03-23 19:00:00   NaN\n",
      "2005-03-23 20:00:00   NaN\n",
      "2005-03-24 19:00:00   NaN\n",
      "2005-03-24 20:00:00   NaN\n",
      "2005-03-25 19:00:00   NaN\n",
      "Name: CO(GT), Length: 224, dtype: float64\n"
     ]
    }
   ],
   "source": [
    "# Removing the outliers\n",
    "co_refined = co.copy()\n",
    "co_refined[mask] = np.nan\n",
    "print(co_refined[mask])"
   ]
  },
  {
   "cell_type": "code",
   "execution_count": 26,
   "metadata": {},
   "outputs": [
    {
     "data": {
      "text/plain": [
       "<AxesSubplot:xlabel='Datetime'>"
      ]
     },
     "execution_count": 26,
     "metadata": {},
     "output_type": "execute_result"
    }
   ],
   "source": [
    "# Linear interpolation for reconstructing outliers removed.\n",
    "co_refined.interpolate(inplace=True)\n",
    "co_refined.plot()"
   ]
  },
  {
   "cell_type": "code",
   "execution_count": 11,
   "metadata": {},
   "outputs": [
    {
     "name": "stderr",
     "output_type": "stream",
     "text": [
      "C:\\ProgramData\\Anaconda3\\lib\\site-packages\\seaborn\\distributions.py:2619: FutureWarning: `distplot` is a deprecated function and will be removed in a future version. Please adapt your code to use either `displot` (a figure-level function with similar flexibility) or `histplot` (an axes-level function for histograms).\n",
      "  warnings.warn(msg, FutureWarning)\n"
     ]
    },
    {
     "data": {
      "text/plain": [
       "<AxesSubplot:xlabel='CO(GT)', ylabel='Density'>"
      ]
     },
     "execution_count": 11,
     "metadata": {},
     "output_type": "execute_result"
    },
    {
     "data": {
      "image/png": "[encoded data removed]",
      "text/plain": [
       "<Figure size 432x288 with 1 Axes>"
      ]
     },
     "metadata": {
      "needs_background": "light"
     },
     "output_type": "display_data"
    }
   ],
   "source": [
    "\"\"\"\n",
    "Detecting Outliers with Z-Scores\n",
    "\"\"\"\n",
    "import seaborn as sns\n",
    "# Visualize the distribution of the 'CO(GT)' variable\n",
    "sns.distplot(co)"
   ]
  },
  {
   "cell_type": "code",
   "execution_count": 12,
   "metadata": {},
   "outputs": [
    {
     "name": "stdout",
     "output_type": "stream",
     "text": [
      "2.126146200705357 1.4369815748596482\n"
     ]
    }
   ],
   "source": [
    "# Mean, Standard deviation\n",
    "mean = np.mean(co)\n",
    "std = np.std(co)\n",
    "print(mean, std)"
   ]
  },
  {
   "cell_type": "code",
   "execution_count": 13,
   "metadata": {
    "scrolled": true
   },
   "outputs": [
    {
     "name": "stdout",
     "output_type": "stream",
     "text": [
      "3.3221398818289734\n",
      "3.113368937755246\n",
      "4.157223658123882\n",
      "4.087633343432639\n",
      "3.0437786230640036\n",
      "3.113368937755246\n",
      "3.8092720846676698\n",
      "3.182959252446488\n",
      "3.113368937755246\n",
      "3.600501140593942\n",
      "3.5309108259027\n",
      "3.0437786230640036\n",
      "3.0437786230640036\n",
      "3.182959252446488\n",
      "3.0437786230640036\n",
      "3.600501140593942\n",
      "3.182959252446488\n",
      "3.7396817699764275\n",
      "3.0437786230640036\n",
      "3.182959252446488\n",
      "3.3917301965202156\n",
      "4.087633343432639\n",
      "3.878862399358912\n",
      "3.2525495671377302\n",
      "4.36599460219761\n",
      "3.2525495671377302\n",
      "4.018043028741397\n",
      "4.36599460219761\n",
      "4.087633343432639\n",
      "4.36599460219761\n",
      "5.131488063801275\n",
      "3.0437786230640036\n",
      "3.113368937755246\n",
      "3.7396817699764275\n",
      "3.2525495671377302\n",
      "4.018043028741397\n",
      "4.087633343432639\n",
      "4.922717119727547\n",
      "3.3917301965202156\n",
      "3.786075313103922\n",
      "4.180420429687629\n",
      "4.574765546271336\n",
      "4.157223658123882\n",
      "4.087633343432639\n",
      "3.113368937755246\n",
      "3.2525495671377302\n",
      "3.9484527140501537\n",
      "5.618620266639971\n",
      "3.113368937755246\n",
      "3.7396817699764275\n",
      "3.5309108259027\n",
      "4.296404287506367\n",
      "4.505175231580093\n",
      "3.3221398818289734\n",
      "3.0437786230640036\n",
      "3.113368937755246\n",
      "3.600501140593942\n",
      "3.600501140593942\n",
      "5.618620266639971\n",
      "6.801655616391093\n",
      "6.523294357626123\n",
      "4.296404287506367\n",
      "3.2525495671377302\n",
      "4.36599460219761\n",
      "3.878862399358912\n",
      "5.54902995194873\n",
      "3.878862399358912\n",
      "4.157223658123882\n",
      "3.113368937755246\n",
      "3.2525495671377302\n",
      "3.7396817699764275\n",
      "3.878862399358912\n",
      "5.061897749110033\n",
      "3.9484527140501537\n",
      "3.113368937755246\n",
      "3.3221398818289734\n",
      "5.409849322566245\n",
      "3.3221398818289734\n",
      "3.6700914552851853\n",
      "4.992307434418791\n",
      "3.6700914552851853\n",
      "3.113368937755246\n",
      "3.600501140593942\n",
      "3.7396817699764275\n",
      "4.505175231580093\n",
      "4.853126805036306\n",
      "4.505175231580093\n",
      "3.113368937755246\n",
      "4.4355849168888515\n",
      "4.574765546271336\n",
      "4.853126805036306\n",
      "3.5309108259027\n",
      "3.113368937755246\n",
      "3.0437786230640036\n",
      "3.3221398818289734\n",
      "4.018043028741397\n",
      "3.182959252446488\n",
      "3.2525495671377302\n",
      "3.182959252446488\n",
      "3.2525495671377302\n",
      "4.505175231580093\n",
      "4.574765546271336\n",
      "3.2525495671377302\n",
      "3.2525495671377302\n",
      "3.182959252446488\n",
      "3.182959252446488\n",
      "4.36599460219761\n",
      "3.461320511211458\n",
      "3.113368937755246\n",
      "3.0437786230640036\n",
      "3.461320511211458\n",
      "3.0437786230640036\n",
      "3.0437786230640036\n",
      "3.6700914552851853\n",
      "3.5309108259027\n",
      "3.7396817699764275\n"
     ]
    }
   ],
   "source": [
    "# Calculate Z-scores for each data points\n",
    "outliers = []\n",
    "thres = 3\n",
    "\n",
    "for i in co:\n",
    "    z_score = (i-mean) / std\n",
    "    if (np.abs(z_score) > thres):\n",
    "        print(z_score)\n",
    "        outliers.append(i)"
   ]
  },
  {
   "cell_type": "code",
   "execution_count": 14,
   "metadata": {},
   "outputs": [
    {
     "data": {
      "text/plain": [
       "Datetime\n",
       "2004-03-11 19:00:00    6.9\n",
       "2004-03-12 20:00:00    6.6\n",
       "2004-03-15 09:00:00    8.1\n",
       "2004-03-15 19:00:00    8.0\n",
       "2004-03-15 20:00:00    6.5\n",
       "                      ... \n",
       "2005-03-14 19:00:00    6.5\n",
       "2005-03-14 20:00:00    6.5\n",
       "2005-03-15 20:00:00    7.4\n",
       "2005-03-23 20:00:00    7.2\n",
       "2005-03-24 20:00:00    7.5\n",
       "Name: CO(GT), Length: 116, dtype: float64"
      ]
     },
     "execution_count": 14,
     "metadata": {},
     "output_type": "execute_result"
    }
   ],
   "source": [
    "# Simplified version of filtering outliers\n",
    "outliers = co.loc[np.abs((co-mean)/std) > 3]\n",
    "outliers"
   ]
  },
  {
   "cell_type": "code",
   "execution_count": 15,
   "metadata": {},
   "outputs": [
    {
     "data": {
      "text/plain": [
       "array([False, False, False, False, False, False, False, False, False,\n",
       "       False, False, False, False, False, False, False, False, False,\n",
       "       False, False, False, False, False, False, False,  True, False,\n",
       "       False, False, False, False, False, False, False, False, False,\n",
       "       False, False, False, False, False, False, False, False, False,\n",
       "       False, False, False, False, False])"
      ]
     },
     "execution_count": 15,
     "metadata": {},
     "output_type": "execute_result"
    }
   ],
   "source": [
    "# Mask for outliers\n",
    "mask = co.index.isin(outliers.index)\n",
    "mask[:50]"
   ]
  },
  {
   "cell_type": "code",
   "execution_count": 34,
   "metadata": {},
   "outputs": [
    {
     "name": "stderr",
     "output_type": "stream",
     "text": [
      "C:\\ProgramData\\Anaconda3\\lib\\site-packages\\seaborn\\distributions.py:2619: FutureWarning: `distplot` is a deprecated function and will be removed in a future version. Please adapt your code to use either `displot` (a figure-level function with similar flexibility) or `histplot` (an axes-level function for histograms).\n",
      "  warnings.warn(msg, FutureWarning)\n",
      "C:\\ProgramData\\Anaconda3\\lib\\site-packages\\seaborn\\distributions.py:2619: FutureWarning: `distplot` is a deprecated function and will be removed in a future version. Please adapt your code to use either `displot` (a figure-level function with similar flexibility) or `histplot` (an axes-level function for histograms).\n",
      "  warnings.warn(msg, FutureWarning)\n"
     ]
    },
    {
     "data": {
      "text/plain": [
       "<matplotlib.legend.Legend at 0x2205cbcf730>"
      ]
     },
     "execution_count": 34,
     "metadata": {},
     "output_type": "execute_result"
    }
   ],
   "source": [
    "# Comparison of distributions before/after outlier removal\n",
    "sns.distplot(co, axlabel='CO(GT)', label='original')\n",
    "sns.distplot(co[~mask], label='outliers removed')\n",
    "plt.legend(loc='best')\n",
    "\n",
    "# [exer] Adjust thres"
   ]
  },
  {
   "cell_type": "code",
   "execution_count": 16,
   "metadata": {},
   "outputs": [],
   "source": [
    "# Flooring and Capping\n",
    "floor = co.quantile(0.1)\n",
    "cap = co.quantile(0.9)\n",
    "co.loc[co < floor] = floor\n",
    "co.loc[co > cap] = cap"
   ]
  },
  {
   "cell_type": "code",
   "execution_count": 17,
   "metadata": {},
   "outputs": [
    {
     "data": {
      "text/plain": [
       "<AxesSubplot:xlabel='Datetime'>"
      ]
     },
     "execution_count": 17,
     "metadata": {},
     "output_type": "execute_result"
    },
    {
     "data": {
      "image/png": "[encoded data removed]",
      "text/plain": [
       "<Figure size 432x288 with 1 Axes>"
      ]
     },
     "metadata": {
      "needs_background": "light"
     },
     "output_type": "display_data"
    }
   ],
   "source": [
    "# Visualize the result\n",
    "co.plot()"
   ]
  }
 ],
 "metadata": {
  "kernelspec": {
   "display_name": "Python 3 (ipykernel)",
   "language": "python",
   "name": "python3"
  },
  "language_info": {
   "codemirror_mode": {
    "name": "ipython",
    "version": 3
   },
   "file_extension": ".py",
   "mimetype": "text/x-python",
   "name": "python",
   "nbconvert_exporter": "python",
   "pygments_lexer": "ipython3",
   "version": "3.9.7"
  }
 },
 "nbformat": 4,
 "nbformat_minor": 4
}
