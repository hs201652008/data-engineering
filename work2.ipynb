{
 "cells": [
  {
   "cell_type": "code",
   "execution_count": 88,
   "id": "491a23ce-c740-45c0-ac82-27e9ec17406c",
   "metadata": {},
   "outputs": [],
   "source": [
    "#1\n",
    "subjects = [\"physics\", \"calculus\", \"poetry\", \"history\"]"
   ]
  },
  {
   "cell_type": "code",
   "execution_count": 89,
   "id": "8695cce2-4da8-4270-8724-a05e7ca09102",
   "metadata": {},
   "outputs": [],
   "source": [
    "#2\n",
    "grades = [98, 97, 85, 88]"
   ]
  },
  {
   "cell_type": "code",
   "execution_count": 90,
   "id": "94f11294-ecd1-4f13-b798-a882a2d78fa7",
   "metadata": {},
   "outputs": [],
   "source": [
    "#3\n",
    "gradebook = [[subjects[0],grades[0]],\n",
    "             [subjects[1],grades[1]],\n",
    "             [subjects[2],grades[2]],\n",
    "             [subjects[3],grades[3]]]"
   ]
  },
  {
   "cell_type": "code",
   "execution_count": 91,
   "id": "2b8c902f-86d1-4993-843e-fb40f8a8917b",
   "metadata": {},
   "outputs": [
    {
     "name": "stdout",
     "output_type": "stream",
     "text": [
      "[['physics', 98], ['calculus', 97], ['poetry', 85], ['history', 88]]\n"
     ]
    }
   ],
   "source": [
    "#4\n",
    "print(gradebook)"
   ]
  },
  {
   "cell_type": "code",
   "execution_count": 92,
   "id": "dd3efb88-43ec-4208-a147-729e1607ef0e",
   "metadata": {},
   "outputs": [],
   "source": [
    "#5\n",
    "gradebook.append([\"computer science\", 100])"
   ]
  },
  {
   "cell_type": "code",
   "execution_count": 93,
   "id": "f4724dfc-8652-4bae-86d0-3d25836f4e01",
   "metadata": {},
   "outputs": [],
   "source": [
    "#6\n",
    "gradebook.append([\"visual arts\", 93])"
   ]
  },
  {
   "cell_type": "code",
   "execution_count": 94,
   "id": "9734ba1c-f05b-4fbc-bbff-8820899b1941",
   "metadata": {},
   "outputs": [
    {
     "name": "stdout",
     "output_type": "stream",
     "text": [
      "[['physics', 98], ['calculus', 97], ['poetry', 85], ['history', 88], ['computer science', 100], ['visual arts', 93]]\n"
     ]
    }
   ],
   "source": [
    "print(gradebook)"
   ]
  },
  {
   "cell_type": "code",
   "execution_count": 95,
   "id": "8a489e90-dfa1-4dc8-a521-ad12de5555a7",
   "metadata": {},
   "outputs": [],
   "source": [
    "#7\n",
    "gradebook[5][1] += 5"
   ]
  },
  {
   "cell_type": "code",
   "execution_count": 100,
   "id": "5d93bc0f-fd22-45b7-b17b-838c66304162",
   "metadata": {},
   "outputs": [],
   "source": [
    "#8\n",
    "gradebook[2].remove(85)"
   ]
  },
  {
   "cell_type": "code",
   "execution_count": 101,
   "id": "fa1dd54f-7355-4171-8bd8-44f81da2ea9f",
   "metadata": {},
   "outputs": [],
   "source": [
    "#9\n",
    "gradebook[2].append(\"Pass\")"
   ]
  },
  {
   "cell_type": "code",
   "execution_count": 102,
   "id": "c4c7e904-3bb2-4ae9-91dd-3f331c1d0bb3",
   "metadata": {},
   "outputs": [
    {
     "name": "stdout",
     "output_type": "stream",
     "text": [
      "[['physics', 98], ['calculus', 97], ['poetry', 'Pass'], ['history', 88], ['computer science', 100], ['visual arts', 98]]\n"
     ]
    }
   ],
   "source": [
    "print(gradebook)"
   ]
  },
  {
   "cell_type": "code",
   "execution_count": 105,
   "id": "bcdbdc5c-780a-4e9f-aac9-90d1378afc62",
   "metadata": {},
   "outputs": [],
   "source": [
    "#10\n",
    "last_semester_gradebook = [[\"politics\", 80], [\"latin\", 96], [\"dance\", 97], [\"architecture\", 65]]"
   ]
  },
  {
   "cell_type": "code",
   "execution_count": 106,
   "id": "92a1dcce-d1e3-490d-9ff1-696826599b67",
   "metadata": {},
   "outputs": [
    {
     "name": "stdout",
     "output_type": "stream",
     "text": [
      "[['politics', 80], ['latin', 96], ['dance', 97], ['architecture', 65]]\n"
     ]
    }
   ],
   "source": [
    "print(last_semester_gradebook)"
   ]
  },
  {
   "cell_type": "code",
   "execution_count": 107,
   "id": "91be5060-e6c4-4c86-9ea7-5772e5e518d4",
   "metadata": {},
   "outputs": [
    {
     "name": "stdout",
     "output_type": "stream",
     "text": [
      "[['politics', 80], ['latin', 96], ['dance', 97], ['architecture', 65], ['physics', 98], ['calculus', 97], ['poetry', 'Pass'], ['history', 88], ['computer science', 100], ['visual arts', 98]]\n"
     ]
    }
   ],
   "source": [
    "full_gradebook = last_semester_gradebook + gradebook\n",
    "print(full_gradebook)"
   ]
  },
  {
   "cell_type": "code",
   "execution_count": null,
   "id": "3babb401-6aac-4204-8d49-2206d859987c",
   "metadata": {},
   "outputs": [],
   "source": []
  }
 ],
 "metadata": {
  "kernelspec": {
   "display_name": "Python 3 (ipykernel)",
   "language": "python",
   "name": "python3"
  },
  "language_info": {
   "codemirror_mode": {
    "name": "ipython",
    "version": 3
   },
   "file_extension": ".py",
   "mimetype": "text/x-python",
   "name": "python",
   "nbconvert_exporter": "python",
   "pygments_lexer": "ipython3",
   "version": "3.9.7"
  }
 },
 "nbformat": 4,
 "nbformat_minor": 5
}
