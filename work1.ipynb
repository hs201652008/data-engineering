{
 "cells": [
  {
   "cell_type": "code",
   "execution_count": 41,
   "id": "046d1f28-8325-47c4-9bf5-6b6e0c0f6d63",
   "metadata": {},
   "outputs": [],
   "source": [
    "#1\n",
    "lovely_loveseat_description = \"Lovely Loveseat. Tufted polyester blend on wood. 32 inches high x 40 inches wide x 30 inches deep. Red or white.\""
   ]
  },
  {
   "cell_type": "code",
   "execution_count": 42,
   "id": "65418048-0e44-4509-930d-c3238a504e05",
   "metadata": {},
   "outputs": [],
   "source": [
    "#2\n",
    "lovely_loveseat_price = 254.00"
   ]
  },
  {
   "cell_type": "code",
   "execution_count": 43,
   "id": "b9f5fc59-f3e3-4207-93cc-e6e8576ec339",
   "metadata": {},
   "outputs": [],
   "source": [
    "#3\n",
    "stylish_settee_description = \"Stylish Settee. Faux leather on birch. 29.50 inches high x 54.75 inches wide x 28 inches deep. Black.\""
   ]
  },
  {
   "cell_type": "code",
   "execution_count": 44,
   "id": "b09de36f-9a1d-41d5-9b3b-428ab1cd6a94",
   "metadata": {},
   "outputs": [],
   "source": [
    "#4\n",
    "stylish_settee_price = 180.50"
   ]
  },
  {
   "cell_type": "code",
   "execution_count": 45,
   "id": "5f7453cb-3401-4ff9-beca-edb8eb601ee9",
   "metadata": {},
   "outputs": [],
   "source": [
    "#5\n",
    "luxurious_lamp_description = \"Luxurious Lamp. Glass and iron. 36 inches tall. Brown with cream shade.\""
   ]
  },
  {
   "cell_type": "code",
   "execution_count": 46,
   "id": "98df98d6-ec59-4b61-b199-f7d1887d599d",
   "metadata": {},
   "outputs": [],
   "source": [
    "#6\n",
    "luxurious_lamp_price = 52.15"
   ]
  },
  {
   "cell_type": "code",
   "execution_count": 47,
   "id": "b4f03494-afc7-4182-8a36-79f8f1c4e95b",
   "metadata": {},
   "outputs": [],
   "source": [
    "#7\n",
    "sales_tax = 0.088"
   ]
  },
  {
   "cell_type": "code",
   "execution_count": 48,
   "id": "5a7d569d-f7c0-4f05-a7c6-f4524c06aa8e",
   "metadata": {},
   "outputs": [],
   "source": [
    "#8\n",
    "customer_one_total = 0"
   ]
  },
  {
   "cell_type": "code",
   "execution_count": 49,
   "id": "60f92363-8ed8-4bd3-9ab8-210f0b9f517a",
   "metadata": {},
   "outputs": [],
   "source": [
    "#9\n",
    "customer_one_itemization = \"\""
   ]
  },
  {
   "cell_type": "code",
   "execution_count": 50,
   "id": "0b06d0c9-ecb2-4dec-9972-c6dbebeb4f02",
   "metadata": {},
   "outputs": [],
   "source": [
    "#10\n",
    "customer_one_total += lovely_loveseat_price"
   ]
  },
  {
   "cell_type": "code",
   "execution_count": 51,
   "id": "d7bc7fd8-6cf7-4cd5-9eb0-af5b78623907",
   "metadata": {},
   "outputs": [],
   "source": [
    "#11\n",
    "customer_one_itemization += lovely_loveseat_description"
   ]
  },
  {
   "cell_type": "code",
   "execution_count": 52,
   "id": "5f2235ad-2177-4a01-9ab2-b394dc959ec3",
   "metadata": {},
   "outputs": [],
   "source": [
    "#12\n",
    "customer_one_total += luxurious_lamp_price"
   ]
  },
  {
   "cell_type": "code",
   "execution_count": 53,
   "id": "1186a453-b04d-4321-9aaa-05eef99342a0",
   "metadata": {},
   "outputs": [],
   "source": [
    "#13\n",
    "customer_one_itemization += luxurious_lamp_description"
   ]
  },
  {
   "cell_type": "code",
   "execution_count": 54,
   "id": "ed8f28f0-6434-4a81-a457-c634af2c2588",
   "metadata": {},
   "outputs": [],
   "source": [
    "#14\n",
    "customer_one_tax = customer_one_total * sales_tax"
   ]
  },
  {
   "cell_type": "code",
   "execution_count": 55,
   "id": "f62b8715-24ba-4ebe-9133-c1e512c16c5a",
   "metadata": {},
   "outputs": [],
   "source": [
    "#15\n",
    "customer_one_total += customer_one_tax"
   ]
  },
  {
   "cell_type": "code",
   "execution_count": 56,
   "id": "2ce84de3-38f1-47dd-8634-6f134e5d383e",
   "metadata": {},
   "outputs": [
    {
     "name": "stdout",
     "output_type": "stream",
     "text": [
      "Customer One Items:\n"
     ]
    }
   ],
   "source": [
    "#16\n",
    "print(\"Customer One Items:\")"
   ]
  },
  {
   "cell_type": "code",
   "execution_count": 57,
   "id": "519d4ed6-32b4-45a0-91f7-c99f2f5bc1b2",
   "metadata": {},
   "outputs": [
    {
     "name": "stdout",
     "output_type": "stream",
     "text": [
      "Lovely Loveseat. Tufted polyester blend on wood. 32 inches high x 40 inches wide x 30 inches deep. Red or white.Luxurious Lamp. Glass and iron. 36 inches tall. Brown with cream shade.\n"
     ]
    }
   ],
   "source": [
    "#17\n",
    "print(customer_one_itemization)"
   ]
  },
  {
   "cell_type": "code",
   "execution_count": 58,
   "id": "2d78c878-344a-42fa-8546-e982ad60893e",
   "metadata": {},
   "outputs": [
    {
     "name": "stdout",
     "output_type": "stream",
     "text": [
      "Customer One Total:\n"
     ]
    }
   ],
   "source": [
    "#18\n",
    "print(\"Customer One Total:\")"
   ]
  },
  {
   "cell_type": "code",
   "execution_count": 59,
   "id": "08cde4aa-3f04-4790-b293-e052e9ef6bdb",
   "metadata": {},
   "outputs": [
    {
     "name": "stdout",
     "output_type": "stream",
     "text": [
      "333.09119999999996\n"
     ]
    }
   ],
   "source": [
    "#19\n",
    "print(customer_one_total)"
   ]
  },
  {
   "cell_type": "code",
   "execution_count": null,
   "id": "680f709b-97fd-4ba5-ab60-92c20e2dba07",
   "metadata": {},
   "outputs": [],
   "source": []
  },
  {
   "cell_type": "code",
   "execution_count": null,
   "id": "bb26a9c3-b6b2-4d12-8d4c-87b380e8c8fd",
   "metadata": {},
   "outputs": [],
   "source": []
  }
 ],
 "metadata": {
  "kernelspec": {
   "display_name": "Python 3 (ipykernel)",
   "language": "python",
   "name": "python3"
  },
  "language_info": {
   "codemirror_mode": {
    "name": "ipython",
    "version": 3
   },
   "file_extension": ".py",
   "mimetype": "text/x-python",
   "name": "python",
   "nbconvert_exporter": "python",
   "pygments_lexer": "ipython3",
   "version": "3.9.7"
  }
 },
 "nbformat": 4,
 "nbformat_minor": 5
}
