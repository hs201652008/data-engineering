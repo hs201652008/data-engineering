{
 "cells": [
  {
   "cell_type": "code",
   "execution_count": 10,
   "id": "cee3b34f-05e6-41c3-9956-c4b533965c30",
   "metadata": {},
   "outputs": [],
   "source": [
    "def get_my_chosun_name(family_name, month, day):\n",
    "    name1 = ['쌍', '쇠', '복', '돌', '팽', '육', '쌍', '개', '칠', '갑', '삼', '방']\n",
    "    name2 = ['봉', '구', '욕', '포', '똥', '삼', '식', '석', '놈', '님', '년', '돌', '단', '득', '방', '질', '장', '걸', '래', '룡', '동', '순', '자', '박', '창', '언', '것', '포', '만', '단', '국']\n",
    "    print(\"당신의 조선시대 이름은 \", family_name, name1[month-1], name2[day-1], \" 입니다.\")"
   ]
  },
  {
   "cell_type": "code",
   "execution_count": 11,
   "id": "e30c4737-79c6-4c8b-96f2-ef7ad339a536",
   "metadata": {},
   "outputs": [
    {
     "name": "stdout",
     "output_type": "stream",
     "text": [
      "당신의 조선시대 이름은  김 복 창  입니다.\n"
     ]
    }
   ],
   "source": [
    "get_my_chosun_name('김', 3, 25)"
   ]
  },
  {
   "cell_type": "code",
   "execution_count": null,
   "id": "ad4f9dea-0132-44f9-bda5-ac6229691dd7",
   "metadata": {},
   "outputs": [],
   "source": []
  }
 ],
 "metadata": {
  "kernelspec": {
   "display_name": "Python 3 (ipykernel)",
   "language": "python",
   "name": "python3"
  },
  "language_info": {
   "codemirror_mode": {
    "name": "ipython",
    "version": 3
   },
   "file_extension": ".py",
   "mimetype": "text/x-python",
   "name": "python",
   "nbconvert_exporter": "python",
   "pygments_lexer": "ipython3",
   "version": "3.9.7"
  }
 },
 "nbformat": 4,
 "nbformat_minor": 5
}
